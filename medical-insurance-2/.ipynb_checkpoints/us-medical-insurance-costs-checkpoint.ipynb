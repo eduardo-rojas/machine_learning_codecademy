{
 "cells": [
  {
   "cell_type": "markdown",
   "metadata": {},
   "source": [
    "# U.S. Medical Insurance Costs"
   ]
  },
  {
   "cell_type": "markdown",
   "metadata": {},
   "source": [
    "The goal of this project is to explore the **Medical Insurance Costs Dataset** using only python built-in features, without the help of popular data science libraries.  \n",
    "\n",
    "---\n",
    "\n",
    "**Project structure:**\n",
    "\n",
    "    1. Data import and initial exploration.\n",
    "    2. Assign the data columns to appropriate variable types.\n",
    "    3. Build analysis functions to better understand the data."
   ]
  },
  {
   "cell_type": "markdown",
   "metadata": {},
   "source": [
    "## 1. Data import and initial exploration.\n",
    "\n"
   ]
  },
  {
   "cell_type": "markdown",
   "metadata": {},
   "source": [
    "We begin by importing the dataset features as python data types."
   ]
  },
  {
   "cell_type": "code",
   "execution_count": 31,
   "metadata": {},
   "outputs": [],
   "source": [
    "import csv \n",
    "# Features to list variables\n",
    "# Column: age\n",
    "age_col = []\n",
    "# Column: smokers\n",
    "sex_col = []\n",
    "# Column: smokers\n",
    "bmi_col = []\n",
    "# Column: smokers\n",
    "children_col = []\n",
    "# Column: smokers\n",
    "smoker_col = []\n",
    "# Column: smokers\n",
    "region_col = []\n",
    "# Column: smokers\n",
    "charges_col = []\n",
    "# Column: index\n",
    "index_col = []\n",
    "\n",
    "idx_counter = 0\n",
    "\n",
    "with open(\"insurance.csv\", newline='') as medical_insurance_data:\n",
    "    medical_insurance_data_dict = csv.DictReader(medical_insurance_data)\n",
    "    for row in medical_insurance_data_dict:\n",
    "        index_col.append(idx_counter)\n",
    "        age_col.append(row[\"age\"])\n",
    "        sex_col.append(row[\"sex\"])\n",
    "        bmi_col.append(row['bmi'])\n",
    "        children_col.append(row[\"children\"])\n",
    "        smoker_col.append(row[\"smoker\"])\n",
    "        region_col.append(row[\"region\"])\n",
    "        charges_col.append(row[\"charges\"])\n",
    "        \n",
    "        idx_counter += 1\n",
    "\n",
    "\n"
   ]
  },
  {
   "cell_type": "markdown",
   "metadata": {},
   "source": [
    "We proceed to inspect the first 5 values of each column in our python lists and confirm that all columns are of equal length."
   ]
  },
  {
   "cell_type": "code",
   "execution_count": 33,
   "metadata": {},
   "outputs": [
    {
     "name": "stdout",
     "output_type": "stream",
     "text": [
      "Age column (first 5 values): ['19', '18', '28', '33', '32']. Length: 1338 \n",
      "Sex column (first 5 values): ['female', 'male', 'male', 'male', 'male']. Length: 1338 \n",
      "BMI column (first 5 values): ['27.9', '33.77', '33', '22.705', '28.88']. Length: 1338 \n",
      "Children column (first 5 values): ['yes', 'no', 'no', 'no', 'no']. Length: 1338 \n",
      "Region column (first 5 values): ['southwest', 'southeast', 'southeast', 'northwest', 'northwest']. Length: 1338 \n",
      "Charges column (first 5 values): ['16884.924', '1725.5523', '4449.462', '21984.47061', '3866.8552']. Length: 1338 \n",
      "Index column (first 5 values): [0, 1, 2, 3, 4]. Length: 1338 \n"
     ]
    }
   ],
   "source": [
    "print(f\"Age column (first 5 values): {age_col[0:5]}. Length: {len(age_col)} \")\n",
    "print(f\"Sex column (first 5 values): {sex_col[0:5]}. Length: {len(sex_col)} \")\n",
    "print(f\"BMI column (first 5 values): {bmi_col[0:5]}. Length: {len(bmi_col)} \")\n",
    "print(f\"Children column (first 5 values): {smoker_col[0:5]}. Length: {len(smoker_col)} \")\n",
    "print(f\"Region column (first 5 values): {region_col[0:5]}. Length: {len(region_col)} \") \n",
    "print(f\"Charges column (first 5 values): {charges_col[0:5]}. Length: {len(charges_col)} \")\n",
    "print(f\"Index column (first 5 values): {index_col[0:5]}. Length: {len(index_col)} \")"
   ]
  },
  {
   "cell_type": "markdown",
   "metadata": {},
   "source": [
    "Our imported data seems consistent, however it is necessary to convert string values to numeric (float or integer) for the `age_col`, `bmi_col` and `charges_col` columns.\n"
   ]
  },
  {
   "cell_type": "code",
   "execution_count": 27,
   "metadata": {},
   "outputs": [],
   "source": [
    "# age values to int\n",
    "for index in range(len(age_col)):\n",
    "    age_col[index] = int(age_col[index])\n",
    "# BMI values to float\n",
    "for index in range(len(bmi_col)):\n",
    "    bmi_col[index] = float(bmi_col[index])\n",
    "# Charges values to float\n",
    "for index in range(len(charges_col)):\n",
    "    charges_col[index] = float(charges_col[index])"
   ]
  },
  {
   "cell_type": "markdown",
   "metadata": {},
   "source": [
    "Inspect parsed columns:"
   ]
  },
  {
   "cell_type": "code",
   "execution_count": 29,
   "metadata": {},
   "outputs": [
    {
     "name": "stdout",
     "output_type": "stream",
     "text": [
      "Age column parsed to integer data type (first 5 values): [19, 18, 28, 33, 32]. Length: 1338 \n",
      "BMI column parsed to float data type (first 5 values): [27.9, 33.77, 33.0, 22.705, 28.88]. Length: 1338 \n",
      "Charges column parsed to float data type (first 5 values): [16884.924, 1725.5523, 4449.462, 21984.47061, 3866.8552]. Length: 1338 \n"
     ]
    }
   ],
   "source": [
    "print(f\"Age column parsed to integer data type (first 5 values): {age_col[0:5]}. Length: {len(age_col)} \")\n",
    "print(f\"BMI column parsed to float data type (first 5 values): {bmi_col[0:5]}. Length: {len(bmi_col)} \")\n",
    "print(f\"Charges column parsed to float data type (first 5 values): {charges_col[0:5]}. Length: {len(charges_col)} \")\n"
   ]
  },
  {
   "cell_type": "markdown",
   "metadata": {},
   "source": [
    "Finally we proceed to create a python dictionary to function as a database/dataframe for our medical records data. The structure will consist of a dictionary within a dictionary, the key of the outmost dictionary will be the `index_col` value of each row.\n"
   ]
  },
  {
   "cell_type": "code",
   "execution_count": 34,
   "metadata": {},
   "outputs": [],
   "source": [
    "# Dictionary that stores medical records:\n"
   ]
  },
  {
   "cell_type": "markdown",
   "metadata": {},
   "source": [
    "## 2. Assign the data columns to appropriate variable types."
   ]
  },
  {
   "cell_type": "code",
   "execution_count": null,
   "metadata": {},
   "outputs": [],
   "source": [
    "# List of the smoker column in the dataframe\n",
    "smoker_col = medical_insurance_data['smoker']\n",
    "\n",
    "\n"
   ]
  },
  {
   "cell_type": "markdown",
   "metadata": {},
   "source": [
    "## 3. Build analysis functions to better understand the data."
   ]
  },
  {
   "cell_type": "markdown",
   "metadata": {},
   "source": [
    "### **Goals of the analysis**\n",
    "<br><br>\n",
    "- Explore the relationship between age and the other features by: \n",
    "    - Calculating the average age of the persons in the dataset.\n",
    "    - Calculate the proportions of age samples in groups that span by 5 years (starting by the minimum age sample).\n",
    "    - Group the average charges by the age groups.\n",
    "<br><br>\n",
    "- Explore the general characteristics of the smoker columns:\n",
    "    - What is the number of smokers and non-smokers?\n",
    "    - What is the proportion of smokers vs. non smokers?\n",
    "    - Is there a significant difference in the insurance charges amount that smokers have compared to non-smokers?\n",
    "<br><br>        \n",
    "- Analyze the possibility of a regional bias in our dataset by:\n",
    "    - analyzing where the majority of individuals live.\n",
    "    - answering if there is a siginificant difference between the region with the most samples and the other regions.\n",
    "<br><br>   \n",
    "- Analyze the average age of the persons with one or more children.\n",
    "<br><br>\n",
    "- Analyze the average age and the average charges amount grouped by the BMI feature and answer if the majority of samples in each particular BMI group correspond to smokers or non-smokers.\n",
    "\n"
   ]
  },
  {
   "cell_type": "markdown",
   "metadata": {},
   "source": [
    "Total number of smokers and non smokers:\n"
   ]
  },
  {
   "cell_type": "code",
   "execution_count": null,
   "metadata": {},
   "outputs": [],
   "source": [
    "def calculate_number_of_smokers(smoker_column):\n",
    "    are_smokers = 0\n",
    "    non_smokers = 0\n",
    "    for i in smoker_column:\n",
    "        if i == 'yes':\n",
    "            are_smokers += 1\n",
    "        else:\n",
    "            non_smokers += 1\n",
    "    return are_smokers, non_smokers\n",
    "\n",
    "smokers_positive, smokers_negative = calculate_number_of_smokers(smoker_col)\n",
    "print(f'Smokers: {smokers_positive}\\nNon-smokers: {smokers_negative}')\n",
    "            "
   ]
  },
  {
   "cell_type": "markdown",
   "metadata": {},
   "source": [
    "Proportions of smokers vs non-smokers:\n"
   ]
  },
  {
   "cell_type": "code",
   "execution_count": null,
   "metadata": {},
   "outputs": [],
   "source": [
    "def proportion_of_smokers(smoker_column):\n",
    "    size = len(smoker_column)\n",
    "    smokers, non_smokers = calculate_number_of_smokers(smoker_column)\n",
    "    prop_smokers = round((smokers * 100 ) / size, 2 )\n",
    "    prop_non_smokers = round((non_smokers *100) / size, 2)\n",
    "    return prop_smokers, prop_non_smokers\n",
    "\n",
    "smokers_proportion, non_smokers_proportion = proportion_of_smokers(smoker_col)\n",
    "print(f'Proportion of smokers: {smokers_proportion}\\nProportion of non-smokers: {non_smokers_proportion}')"
   ]
  }
 ],
 "metadata": {
  "kernelspec": {
   "display_name": "Python 3 (ipykernel)",
   "language": "python",
   "name": "python3"
  },
  "language_info": {
   "codemirror_mode": {
    "name": "ipython",
    "version": 3
   },
   "file_extension": ".py",
   "mimetype": "text/x-python",
   "name": "python",
   "nbconvert_exporter": "python",
   "pygments_lexer": "ipython3",
   "version": "3.9.5"
  }
 },
 "nbformat": 4,
 "nbformat_minor": 4
}
